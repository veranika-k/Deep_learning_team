{
 "cells": [
  {
   "cell_type": "code",
   "execution_count": 1,
   "id": "cc223eaf",
   "metadata": {},
   "outputs": [
    {
     "name": "stdout",
     "output_type": "stream",
     "text": [
      "cell_00681.tif\tI;16\t512x512\n",
      "cell_00682.tif\tI;16\t512x512\n",
      "cell_00683.tif\tI;16\t512x512\n",
      "cell_00684.tif\tI;16\t512x512\n",
      "cell_00685.tif\tI;16\t512x512\n",
      "cell_00686.tif\tI;16\t512x512\n",
      "cell_00687.tif\tI;16\t512x512\n",
      "cell_00688.tif\tI;16\t512x512\n",
      "cell_00689.tif\tI;16\t800x800\n",
      "cell_00690.tif\tI;16\t800x800\n",
      "cell_00691.tif\tI;16\t800x800\n",
      "cell_00692.tif\tI;16\t800x800\n",
      "cell_00693.tif\tI;16\t800x800\n",
      "cell_00694.tif\tI;16\t800x800\n",
      "cell_00695.tif\tI;16\t800x800\n",
      "cell_00700.tif\tI;16\t1000x1050\n"
     ]
    }
   ],
   "source": [
    "import os\n",
    "from PIL import Image\n",
    "\n",
    "images_dir = \"example_images\"\n",
    "\n",
    "for file in os.listdir(images_dir):\n",
    "    file_path = os.path.join(images_dir, file)\n",
    "    if os.path.isfile(file_path):\n",
    "        try:\n",
    "            with Image.open(file_path) as img:\n",
    "                print(f\"{file}\\t{img.mode}\\t{img.size[0]}x{img.size[1]}\")\n",
    "        except:\n",
    "            print(f\"{file}\\tERROR\\tN/A\")"
   ]
  }
 ],
 "metadata": {
  "kernelspec": {
   "display_name": "Python 3",
   "language": "python",
   "name": "python3"
  },
  "language_info": {
   "codemirror_mode": {
    "name": "ipython",
    "version": 3
   },
   "file_extension": ".py",
   "mimetype": "text/x-python",
   "name": "python",
   "nbconvert_exporter": "python",
   "pygments_lexer": "ipython3",
   "version": "3.13.5"
  }
 },
 "nbformat": 4,
 "nbformat_minor": 5
}
